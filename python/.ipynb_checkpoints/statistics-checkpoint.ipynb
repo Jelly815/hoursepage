{
 "cells": [
  {
   "cell_type": "code",
   "execution_count": 1,
   "metadata": {},
   "outputs": [],
   "source": [
    "import matplotlib.pyplot as plt\n",
    "import db_connect\n",
    "\n",
    "dbconn = db_connect.DB_CONN()"
   ]
  },
  {
   "cell_type": "code",
   "execution_count": 2,
   "metadata": {},
   "outputs": [],
   "source": [
    "dbconn.execute(\"SELECT count(`id`) AS 'count_' FROM `ex_score` WHERE `type` = 'like'\")\n",
    "rows = dbconn.fetchall()\n",
    "like_count = int(rows[0]['count_'])\n",
    "\n",
    "dbconn.execute(\"SELECT count(`id`) AS 'count_' FROM `ex_score` WHERE `type` = 'user'\")\n",
    "rows = dbconn.fetchall()\n",
    "user_count = int(rows[0]['count_'])\n",
    "\n",
    "dbconn.execute(\"SELECT count(`id`) AS 'count_' FROM `ex_score` WHERE `type` = 'nolike'\")\n",
    "rows = dbconn.fetchall()\n",
    "nolike_count = int(rows[0]['count_'])\n",
    "\n",
    "dbconn.execute(\"SELECT count(`id`) AS 'count_' FROM `ex_score` WHERE `type` = 'content'\")\n",
    "rows = dbconn.fetchall()\n",
    "content_count = int(rows[0]['count_'])\n",
    "\n",
    "dbconn.execute(\"SELECT count(`id`) AS 'count_' FROM `ex_score` WHERE `type` = 'hot'\")\n",
    "rows = dbconn.fetchall()\n",
    "area_count = int(rows[0]['count_'])\n",
    "\n",
    "dbconn.execute(\"SELECT count(`id`) AS 'count_' FROM `ex_score` WHERE `type` = 'search'\")\n",
    "rows = dbconn.fetchall()\n",
    "search_count = int(rows[0]['count_'])\n",
    "\n",
    "dbconn.execute(\"SELECT count(`id`) AS 'count_' FROM `ex_score` WHERE `type` = 'new'\")\n",
    "rows = dbconn.fetchall()\n",
    "new_count = int(rows[0]['count_'])"
   ]
  },
  {
   "cell_type": "code",
   "execution_count": 3,
   "metadata": {},
   "outputs": [
    {
     "data": {
      "image/png": "[encoded data removed]",
      "text/plain": [
       "<Figure size 432x288 with 1 Axes>"
      ]
     },
     "metadata": {},
     "output_type": "display_data"
    }
   ],
   "source": [
    "import numpy as np\n",
    "\n",
    "types = ['All','Customer',\"Don't like\",'Content','Area','Search','New']\n",
    "types_times = [like_count,user_count,nolike_count,content_count,area_count,search_count,new_count]\n",
    "\n",
    "xs = [i*30  for i,_ in enumerate(types)]\n",
    "plt.bar(xs,types_times,20)\n",
    "plt.axis([-15,195,0,140])\n",
    "plt.ylabel(\"Times\")\n",
    "plt.title(\"View\")\n",
    "\n",
    "plt.xticks([i*30 for i, _ in enumerate(types)],types)\n",
    "\n",
    "plt.show()"
   ]
  },
  {
   "cell_type": "code",
   "execution_count": 4,
   "metadata": {
    "scrolled": true
   },
   "outputs": [
    {
     "data": {
      "image/png": "[encoded data removed]",
      "text/plain": [
       "<Figure size 432x288 with 1 Axes>"
      ]
     },
     "metadata": {},
     "output_type": "display_data"
    }
   ],
   "source": [
    "types = ['Customer',\"Don't like\",'Content','Area','Search','New']\n",
    "types_times = [user_count,nolike_count,content_count,area_count,search_count,new_count]\n",
    "\n",
    "xs = [i for i,_ in enumerate(types)]\n",
    "plt.bar(xs,types_times)\n",
    "\n",
    "plt.ylabel(\"Times\")\n",
    "plt.title(\"View\")\n",
    "\n",
    "plt.xticks([i for i, _ in enumerate(types)],types)\n",
    "\n",
    "plt.show()"
   ]
  },
  {
   "cell_type": "code",
   "execution_count": 5,
   "metadata": {},
   "outputs": [
    {
     "name": "stdout",
     "output_type": "stream",
     "text": [
      "[6.0, 9.0, 24.0, 31.0, 30.0]\n"
     ]
    }
   ],
   "source": [
    "dbconn.execute(\"SELECT `math_` FROM `ex_score_analysis` WHERE `type_` = 'like' ORDER BY `value_`\")\n",
    "rows = dbconn.fetchall()\n",
    "like_num = []\n",
    "for x in rows:\n",
    "    like_num.append(round((x['math_'] * 100),1))\n",
    "    \n",
    "print(like_num)"
   ]
  },
  {
   "cell_type": "code",
   "execution_count": 19,
   "metadata": {},
   "outputs": [
    {
     "data": {
      "image/png": "[encoded data removed]",
      "text/plain": [
       "<Figure size 432x288 with 1 Axes>"
      ]
     },
     "metadata": {},
     "output_type": "display_data"
    }
   ],
   "source": [
    "types = ['1','2','3','4','5']\n",
    "\n",
    "xs = [i for i,_ in enumerate(types)]\n",
    "plt.bar(xs,like_num)\n",
    "\n",
    "plt.xlabel(\"Score\")\n",
    "plt.ylabel(\"Average\")\n",
    "#plt.title(\"All\")\n",
    "\n",
    "plt.xticks([i for i, _ in enumerate(types)],types)\n",
    "plt.show()"
   ]
  },
  {
   "cell_type": "code",
   "execution_count": 7,
   "metadata": {
    "scrolled": true
   },
   "outputs": [
    {
     "name": "stdout",
     "output_type": "stream",
     "text": [
      "[6.0, 38.0, 9.0, 25.0, 22.0]\n"
     ]
    }
   ],
   "source": [
    "dbconn.execute(\"SELECT `math_` FROM `ex_score_analysis` WHERE `type_` = 'user' ORDER BY `value_`\")\n",
    "rows = dbconn.fetchall()\n",
    "user_num = []\n",
    "for x in rows:\n",
    "    user_num.append(round((x['math_'] * 100),1))\n",
    "    \n",
    "print(user_num)"
   ]
  },
  {
   "cell_type": "code",
   "execution_count": 8,
   "metadata": {},
   "outputs": [
    {
     "data": {
      "image/png": "[encoded data removed]",
      "text/plain": [
       "<Figure size 432x288 with 1 Axes>"
      ]
     },
     "metadata": {},
     "output_type": "display_data"
    }
   ],
   "source": [
    "plt.bar(xs,user_num)\n",
    "\n",
    "plt.xlabel(\"Score\")\n",
    "plt.ylabel(\"Average\")\n",
    "#plt.title(\"Other Users Like\")\n",
    "\n",
    "plt.xticks([i for i, _ in enumerate(types)],types)\n",
    "plt.show()"
   ]
  },
  {
   "cell_type": "code",
   "execution_count": 9,
   "metadata": {},
   "outputs": [
    {
     "name": "stdout",
     "output_type": "stream",
     "text": [
      "[10.0, 11.0, 28.0, 32.0, 18.0]\n"
     ]
    }
   ],
   "source": [
    "dbconn.execute(\"SELECT `math_` FROM `ex_score_analysis` WHERE `type_` = 'nolike' ORDER BY `value_`\")\n",
    "rows = dbconn.fetchall()\n",
    "nolike_num = []\n",
    "for x in rows:\n",
    "    nolike_num.append(round((x['math_'] * 100),1))\n",
    "    \n",
    "print(nolike_num)"
   ]
  },
  {
   "cell_type": "code",
   "execution_count": 10,
   "metadata": {},
   "outputs": [
    {
     "data": {
      "image/png": "[encoded data removed]",
      "text/plain": [
       "<Figure size 432x288 with 1 Axes>"
      ]
     },
     "metadata": {},
     "output_type": "display_data"
    }
   ],
   "source": [
    "plt.bar(xs,nolike_num)\n",
    "\n",
    "plt.xlabel(\"Score\")\n",
    "plt.ylabel(\"Average\")\n",
    "#plt.title(\"User No Like\")\n",
    "\n",
    "plt.xticks([i for i, _ in enumerate(types)],types)\n",
    "plt.show()"
   ]
  },
  {
   "cell_type": "code",
   "execution_count": 11,
   "metadata": {},
   "outputs": [
    {
     "name": "stdout",
     "output_type": "stream",
     "text": [
      "[0.0, 0.0, 25.0, 48.0, 27.0]\n"
     ]
    }
   ],
   "source": [
    "dbconn.execute(\"SELECT `math_` FROM `ex_score_analysis` WHERE `type_` = 'content' ORDER BY `value_`\")\n",
    "rows = dbconn.fetchall()\n",
    "content_num = []\n",
    "for x in rows:\n",
    "    content_num.append(round((x['math_'] * 100),1))\n",
    "    \n",
    "print(content_num)"
   ]
  },
  {
   "cell_type": "code",
   "execution_count": 12,
   "metadata": {},
   "outputs": [
    {
     "data": {
      "image/png": "[encoded data removed]",
      "text/plain": [
       "<Figure size 432x288 with 1 Axes>"
      ]
     },
     "metadata": {},
     "output_type": "display_data"
    }
   ],
   "source": [
    "plt.bar(xs,content_num)\n",
    "\n",
    "plt.xlabel(\"Score\")\n",
    "plt.ylabel(\"Average\")\n",
    "#plt.title(\"Likes Content\")\n",
    "\n",
    "plt.xticks([i for i, _ in enumerate(types)],types)\n",
    "plt.show()"
   ]
  },
  {
   "cell_type": "code",
   "execution_count": 13,
   "metadata": {},
   "outputs": [
    {
     "name": "stdout",
     "output_type": "stream",
     "text": [
      "[12.0, 24.0, 15.0, 18.0, 32.0]\n"
     ]
    }
   ],
   "source": [
    "dbconn.execute(\"SELECT `math_` FROM `ex_score_analysis` WHERE `type_` = 'hot' ORDER BY `value_`\")\n",
    "rows = dbconn.fetchall()\n",
    "area_num = []\n",
    "for x in rows:\n",
    "    area_num.append(round((x['math_'] * 100),1))\n",
    "    \n",
    "print(area_num)"
   ]
  },
  {
   "cell_type": "code",
   "execution_count": 14,
   "metadata": {},
   "outputs": [
    {
     "data": {
      "image/png": "[encoded data removed]",
      "text/plain": [
       "<Figure size 432x288 with 1 Axes>"
      ]
     },
     "metadata": {},
     "output_type": "display_data"
    }
   ],
   "source": [
    "plt.bar(xs,area_num)\n",
    "\n",
    "plt.xlabel(\"Score\")\n",
    "plt.ylabel(\"Average\")\n",
    "#plt.title(\"Area Hot\")\n",
    "\n",
    "plt.xticks([i for i, _ in enumerate(types)],types)\n",
    "plt.show()"
   ]
  },
  {
   "cell_type": "code",
   "execution_count": 15,
   "metadata": {},
   "outputs": [
    {
     "name": "stdout",
     "output_type": "stream",
     "text": [
      "[6.0, 18.0, 20.0, 43.0, 14.0]\n"
     ]
    }
   ],
   "source": [
    "dbconn.execute(\"SELECT `math_` FROM `ex_score_analysis` WHERE `type_` = 'search' ORDER BY `value_`\")\n",
    "rows = dbconn.fetchall()\n",
    "search_num = []\n",
    "for x in rows:\n",
    "    search_num.append(round((x['math_'] * 100),1))\n",
    "    \n",
    "print(search_num)"
   ]
  },
  {
   "cell_type": "code",
   "execution_count": 16,
   "metadata": {},
   "outputs": [
    {
     "data": {
      "image/png": "[encoded data removed]",
      "text/plain": [
       "<Figure size 432x288 with 1 Axes>"
      ]
     },
     "metadata": {},
     "output_type": "display_data"
    }
   ],
   "source": [
    "plt.bar(xs,search_num)\n",
    "\n",
    "plt.xlabel(\"Score\")\n",
    "plt.ylabel(\"Average\")\n",
    "#plt.title(\"Search Hot\")\n",
    "\n",
    "plt.xticks([i for i, _ in enumerate(types)],types)\n",
    "plt.show()"
   ]
  },
  {
   "cell_type": "code",
   "execution_count": 17,
   "metadata": {},
   "outputs": [
    {
     "name": "stdout",
     "output_type": "stream",
     "text": [
      "[6.0, 11.0, 27.0, 33.0, 23.0]\n"
     ]
    }
   ],
   "source": [
    "dbconn.execute(\"SELECT `math_` FROM `ex_score_analysis` WHERE `type_` = 'new' ORDER BY `value_`\")\n",
    "rows = dbconn.fetchall()\n",
    "new_num = []\n",
    "for x in rows:\n",
    "    new_num.append(round((x['math_'] * 100),1))\n",
    "    \n",
    "print(new_num)"
   ]
  },
  {
   "cell_type": "code",
   "execution_count": 18,
   "metadata": {},
   "outputs": [
    {
     "data": {
      "image/png": "[encoded data removed]",
      "text/plain": [
       "<Figure size 432x288 with 1 Axes>"
      ]
     },
     "metadata": {},
     "output_type": "display_data"
    }
   ],
   "source": [
    "plt.bar(xs,new_num)\n",
    "\n",
    "plt.xlabel(\"Score\")\n",
    "plt.ylabel(\"Average\")\n",
    "#plt.title(\"New\")\n",
    "\n",
    "plt.xticks([i for i, _ in enumerate(types)],types)\n",
    "plt.show()"
   ]
  },
  {
   "cell_type": "code",
   "execution_count": null,
   "metadata": {},
   "outputs": [],
   "source": []
  }
 ],
 "metadata": {
  "kernelspec": {
   "display_name": "Python 3",
   "language": "python",
   "name": "python3"
  },
  "language_info": {
   "codemirror_mode": {
    "name": "ipython",
    "version": 3
   },
   "file_extension": ".py",
   "mimetype": "text/x-python",
   "name": "python",
   "nbconvert_exporter": "python",
   "pygments_lexer": "ipython3",
   "version": "3.6.4"
  }
 },
 "nbformat": 4,
 "nbformat_minor": 2
}
